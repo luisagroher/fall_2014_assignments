{
 "metadata": {
  "name": "",
  "signature": "sha256:e1d30835e5ff8c16fa56f4557b88bfe3915b1caf1247aa92a69cb6e4fa4f3ff5"
 },
 "nbformat": 3,
 "nbformat_minor": 0,
 "worksheets": [
  {
   "cells": [
    {
     "cell_type": "code",
     "collapsed": false,
     "input": [
      "import pandas as pd\n",
      "import numpy as np\n",
      "\n",
      "from pymc import DiscreteUniform, Exponential, deterministic, Poisson, Uniform, Model"
     ],
     "language": "python",
     "metadata": {},
     "outputs": [],
     "prompt_number": 1
    },
    {
     "cell_type": "code",
     "collapsed": false,
     "input": [
      "###load the header for data\n",
      "header = pd.read_csv('header', sep='\\t')\n",
      "header"
     ],
     "language": "python",
     "metadata": {},
     "outputs": [
      {
       "html": [
        "<div style=\"max-height:1000px;max-width:1500px;overflow:auto;\">\n",
        "<table border=\"1\" class=\"dataframe\">\n",
        "  <thead>\n",
        "    <tr style=\"text-align: right;\">\n",
        "      <th></th>\n",
        "      <th>Date</th>\n",
        "      <th>Source</th>\n",
        "      <th>Target</th>\n",
        "      <th>CAMEOCode</th>\n",
        "      <th>NumEvents</th>\n",
        "      <th>NumArts</th>\n",
        "      <th>QuadClass</th>\n",
        "      <th>Goldstein</th>\n",
        "      <th>SourceGeoType</th>\n",
        "      <th>SourceGeoLat</th>\n",
        "      <th>SourceGeoLong</th>\n",
        "      <th>TargetGeoType</th>\n",
        "      <th>TargetGeoLat</th>\n",
        "      <th>TargetGeoLong</th>\n",
        "      <th>ActionGeoType</th>\n",
        "      <th>ActionGeoLat</th>\n",
        "      <th>ActionGeoLong</th>\n",
        "    </tr>\n",
        "  </thead>\n",
        "  <tbody>\n",
        "  </tbody>\n",
        "</table>\n",
        "</div>"
       ],
       "metadata": {},
       "output_type": "pyout",
       "prompt_number": 2,
       "text": [
        "Empty DataFrame\n",
        "Columns: [Date, Source, Target, CAMEOCode, NumEvents, NumArts, QuadClass, Goldstein, SourceGeoType, SourceGeoLat, SourceGeoLong, TargetGeoType, TargetGeoLat, TargetGeoLong, ActionGeoType, ActionGeoLat, ActionGeoLong]\n",
        "Index: []"
       ]
      }
     ],
     "prompt_number": 2
    },
    {
     "cell_type": "code",
     "collapsed": false,
     "input": [],
     "language": "python",
     "metadata": {},
     "outputs": [],
     "prompt_number": 2
    },
    {
     "cell_type": "code",
     "collapsed": false,
     "input": [
      "###load data with usa and iraq as sources and targets\n",
      "df = pd.read_csv('iraq_usa.txt', sep='\\t', names=header)"
     ],
     "language": "python",
     "metadata": {},
     "outputs": [],
     "prompt_number": 3
    },
    {
     "cell_type": "code",
     "collapsed": false,
     "input": [
      "###convert to datetime\n",
      "from dateutil.parser import parse"
     ],
     "language": "python",
     "metadata": {},
     "outputs": [],
     "prompt_number": 4
    },
    {
     "cell_type": "code",
     "collapsed": false,
     "input": [
      "date = df.Date.apply(str)\n",
      "dates_parsed = date.apply(parse)\n",
      "dates = pd.to_datetime(dates_parsed)"
     ],
     "language": "python",
     "metadata": {},
     "outputs": [],
     "prompt_number": 5
    },
    {
     "cell_type": "code",
     "collapsed": false,
     "input": [
      "###set dattime as index\n",
      "\n",
      "df['DateTime'] = dates\n",
      "#df.set_index('DateTime', inplace=True)"
     ],
     "language": "python",
     "metadata": {},
     "outputs": [],
     "prompt_number": 6
    },
    {
     "cell_type": "code",
     "collapsed": false,
     "input": [
      "###create crosstabluation matrix of events by date\n",
      "event_by_date = pd.crosstab(df.DateTime, df.CAMEOCode)\n"
     ],
     "language": "python",
     "metadata": {},
     "outputs": [],
     "prompt_number": 7
    },
    {
     "cell_type": "code",
     "collapsed": false,
     "input": [
      "event_by_date.head(2)"
     ],
     "language": "python",
     "metadata": {},
     "outputs": [
      {
       "html": [
        "<div style=\"max-height:1000px;max-width:1500px;overflow:auto;\">\n",
        "<table border=\"1\" class=\"dataframe\">\n",
        "  <thead>\n",
        "    <tr style=\"text-align: right;\">\n",
        "      <th>CAMEOCode</th>\n",
        "      <th>10</th>\n",
        "      <th>11</th>\n",
        "      <th>12</th>\n",
        "      <th>13</th>\n",
        "      <th>14</th>\n",
        "      <th>15</th>\n",
        "      <th>16</th>\n",
        "      <th>17</th>\n",
        "      <th>18</th>\n",
        "      <th>19</th>\n",
        "      <th>...</th>\n",
        "      <th>1721</th>\n",
        "      <th>1722</th>\n",
        "      <th>1723</th>\n",
        "      <th>1724</th>\n",
        "      <th>1821</th>\n",
        "      <th>1822</th>\n",
        "      <th>1823</th>\n",
        "      <th>1831</th>\n",
        "      <th>1832</th>\n",
        "      <th>1833</th>\n",
        "    </tr>\n",
        "    <tr>\n",
        "      <th>DateTime</th>\n",
        "      <th></th>\n",
        "      <th></th>\n",
        "      <th></th>\n",
        "      <th></th>\n",
        "      <th></th>\n",
        "      <th></th>\n",
        "      <th></th>\n",
        "      <th></th>\n",
        "      <th></th>\n",
        "      <th></th>\n",
        "      <th></th>\n",
        "      <th></th>\n",
        "      <th></th>\n",
        "      <th></th>\n",
        "      <th></th>\n",
        "      <th></th>\n",
        "      <th></th>\n",
        "      <th></th>\n",
        "      <th></th>\n",
        "      <th></th>\n",
        "      <th></th>\n",
        "    </tr>\n",
        "  </thead>\n",
        "  <tbody>\n",
        "    <tr>\n",
        "      <th>1979-01-09</th>\n",
        "      <td> 0</td>\n",
        "      <td> 0</td>\n",
        "      <td> 0</td>\n",
        "      <td> 0</td>\n",
        "      <td> 0</td>\n",
        "      <td> 0</td>\n",
        "      <td> 0</td>\n",
        "      <td> 0</td>\n",
        "      <td> 0</td>\n",
        "      <td> 0</td>\n",
        "      <td>...</td>\n",
        "      <td> 0</td>\n",
        "      <td> 0</td>\n",
        "      <td> 0</td>\n",
        "      <td> 0</td>\n",
        "      <td> 0</td>\n",
        "      <td> 0</td>\n",
        "      <td> 0</td>\n",
        "      <td> 0</td>\n",
        "      <td> 0</td>\n",
        "      <td> 0</td>\n",
        "    </tr>\n",
        "    <tr>\n",
        "      <th>1979-01-13</th>\n",
        "      <td> 0</td>\n",
        "      <td> 0</td>\n",
        "      <td> 0</td>\n",
        "      <td> 0</td>\n",
        "      <td> 0</td>\n",
        "      <td> 0</td>\n",
        "      <td> 0</td>\n",
        "      <td> 0</td>\n",
        "      <td> 0</td>\n",
        "      <td> 0</td>\n",
        "      <td>...</td>\n",
        "      <td> 0</td>\n",
        "      <td> 0</td>\n",
        "      <td> 0</td>\n",
        "      <td> 0</td>\n",
        "      <td> 0</td>\n",
        "      <td> 0</td>\n",
        "      <td> 0</td>\n",
        "      <td> 0</td>\n",
        "      <td> 0</td>\n",
        "      <td> 0</td>\n",
        "    </tr>\n",
        "  </tbody>\n",
        "</table>\n",
        "<p>2 rows \u00d7 231 columns</p>\n",
        "</div>"
       ],
       "metadata": {},
       "output_type": "pyout",
       "prompt_number": 8,
       "text": [
        "CAMEOCode   10    11    12    13    14    15    16    17    18    19    ...   \\\n",
        "DateTime                                                                ...    \n",
        "1979-01-09     0     0     0     0     0     0     0     0     0     0  ...    \n",
        "1979-01-13     0     0     0     0     0     0     0     0     0     0  ...    \n",
        "\n",
        "CAMEOCode   1721  1722  1723  1724  1821  1822  1823  1831  1832  1833  \n",
        "DateTime                                                                \n",
        "1979-01-09     0     0     0     0     0     0     0     0     0     0  \n",
        "1979-01-13     0     0     0     0     0     0     0     0     0     0  \n",
        "\n",
        "[2 rows x 231 columns]"
       ]
      }
     ],
     "prompt_number": 8
    },
    {
     "cell_type": "code",
     "collapsed": false,
     "input": [
      "terror_events = pd.DataFrame(event_by_date[183])\n",
      "terror_events.columns = ['NonMilitaryBombing']\n"
     ],
     "language": "python",
     "metadata": {},
     "outputs": [],
     "prompt_number": 9
    },
    {
     "cell_type": "code",
     "collapsed": false,
     "input": [
      "terror_events.head(2)"
     ],
     "language": "python",
     "metadata": {},
     "outputs": [
      {
       "html": [
        "<div style=\"max-height:1000px;max-width:1500px;overflow:auto;\">\n",
        "<table border=\"1\" class=\"dataframe\">\n",
        "  <thead>\n",
        "    <tr style=\"text-align: right;\">\n",
        "      <th></th>\n",
        "      <th>NonMilitaryBombing</th>\n",
        "    </tr>\n",
        "    <tr>\n",
        "      <th>DateTime</th>\n",
        "      <th></th>\n",
        "    </tr>\n",
        "  </thead>\n",
        "  <tbody>\n",
        "    <tr>\n",
        "      <th>1979-01-09</th>\n",
        "      <td> 0</td>\n",
        "    </tr>\n",
        "    <tr>\n",
        "      <th>1979-01-13</th>\n",
        "      <td> 0</td>\n",
        "    </tr>\n",
        "  </tbody>\n",
        "</table>\n",
        "</div>"
       ],
       "metadata": {},
       "output_type": "pyout",
       "prompt_number": 10,
       "text": [
        "            NonMilitaryBombing\n",
        "DateTime                      \n",
        "1979-01-09                   0\n",
        "1979-01-13                   0"
       ]
      }
     ],
     "prompt_number": 10
    },
    {
     "cell_type": "code",
     "collapsed": false,
     "input": [],
     "language": "python",
     "metadata": {},
     "outputs": [],
     "prompt_number": 10
    },
    {
     "cell_type": "code",
     "collapsed": false,
     "input": [
      "###visualcheck"
     ],
     "language": "python",
     "metadata": {},
     "outputs": [],
     "prompt_number": 11
    },
    {
     "cell_type": "code",
     "collapsed": false,
     "input": [
      "terror_events.plot(figsize=(24,5))"
     ],
     "language": "python",
     "metadata": {},
     "outputs": [
      {
       "metadata": {},
       "output_type": "pyout",
       "prompt_number": 12,
       "text": [
        "<matplotlib.axes.AxesSubplot at 0x7f218975e890>"
       ]
      },
      {
       "metadata": {},
       "output_type": "display_data",
       "png": "[encoded data removed]",
       "text": [
        "<matplotlib.figure.Figure at 0x7f218975e510>"
       ]
      }
     ],
     "prompt_number": 12
    },
    {
     "cell_type": "code",
     "collapsed": false,
     "input": [],
     "language": "python",
     "metadata": {},
     "outputs": [],
     "prompt_number": 12
    },
    {
     "cell_type": "code",
     "collapsed": false,
     "input": [],
     "language": "python",
     "metadata": {},
     "outputs": [],
     "prompt_number": 12
    },
    {
     "cell_type": "code",
     "collapsed": false,
     "input": [
      "from datetime import timedelta\n",
      "from pandas.tseries.offsets import Day, MonthEnd, Week, YearEnd\n",
      "starts =  terror_events.index[0] #.strftime(\"%a %b %d %H:%M:%S %Y\")\n",
      "ends = terror_events.index[-1] #.strftime(\"%a %b %d %H:%M:%S %Y\")\n",
      "tdelta_days = ends - starts\n",
      "tdelta_years = float(ends.strftime(\"%Y\")) - float(starts.strftime(\"%Y\"))\n",
      "tdelta_week = pd.date_range(starts, ends, freq='W')\n",
      "tdelta_month = pd.date_range(starts, ends, freq='W')\n"
     ],
     "language": "python",
     "metadata": {},
     "outputs": [],
     "prompt_number": 13
    },
    {
     "cell_type": "code",
     "collapsed": false,
     "input": [
      "terror_month = terror_events.resample('M', how='sum')\n",
      "terror_month.head(), terror_month.tail()"
     ],
     "language": "python",
     "metadata": {},
     "outputs": [
      {
       "metadata": {},
       "output_type": "pyout",
       "prompt_number": 14,
       "text": [
        "(            NonMilitaryBombing\n",
        " DateTime                      \n",
        " 1979-01-31                   0\n",
        " 1979-02-28                   0\n",
        " 1979-03-31                   0\n",
        " 1979-04-30                   0\n",
        " 1979-05-31                   0,             NonMilitaryBombing\n",
        " DateTime                      \n",
        " 2013-10-31                   7\n",
        " 2013-11-30                   8\n",
        " 2013-12-31                   4\n",
        " 2014-01-31                   3\n",
        " 2014-02-28                  12)"
       ]
      }
     ],
     "prompt_number": 14
    },
    {
     "cell_type": "code",
     "collapsed": false,
     "input": [
      "len(terror_month)"
     ],
     "language": "python",
     "metadata": {},
     "outputs": [
      {
       "metadata": {},
       "output_type": "pyout",
       "prompt_number": 15,
       "text": [
        "422"
       ]
      }
     ],
     "prompt_number": 15
    },
    {
     "cell_type": "code",
     "collapsed": false,
     "input": [
      "terror_month = terror_month.fillna(method='bfill')"
     ],
     "language": "python",
     "metadata": {},
     "outputs": [],
     "prompt_number": 16
    },
    {
     "cell_type": "code",
     "collapsed": false,
     "input": [
      "terror_month.plot(figsize=(24,5))"
     ],
     "language": "python",
     "metadata": {},
     "outputs": [
      {
       "metadata": {},
       "output_type": "pyout",
       "prompt_number": 17,
       "text": [
        "<matplotlib.axes.AxesSubplot at 0x7f218a140c90>"
       ]
      },
      {
       "metadata": {},
       "output_type": "display_data",
       "png": "[encoded data removed]",
       "text": [
        "<matplotlib.figure.Figure at 0x7f218a2ad090>"
       ]
      }
     ],
     "prompt_number": 17
    },
    {
     "cell_type": "code",
     "collapsed": false,
     "input": [
      "num_attacks = len(terror_month['NonMilitaryBombing'])\n",
      "attack_arr = terror_month['NonMilitaryBombing'].values\n",
      "count_unique = terror_month['NonMilitaryBombing'].nunique()\n"
     ],
     "language": "python",
     "metadata": {},
     "outputs": [],
     "prompt_number": 18
    },
    {
     "cell_type": "code",
     "collapsed": false,
     "input": [
      "type(attack_arr)"
     ],
     "language": "python",
     "metadata": {},
     "outputs": [
      {
       "metadata": {},
       "output_type": "pyout",
       "prompt_number": 19,
       "text": [
        "numpy.ndarray"
       ]
      }
     ],
     "prompt_number": 19
    },
    {
     "cell_type": "code",
     "collapsed": false,
     "input": [
      "#from scipy.stats import rv_continuous \n",
      "#rv_con\n",
      "#?rv_continuous.pdf()"
     ],
     "language": "python",
     "metadata": {},
     "outputs": [],
     "prompt_number": 20
    },
    {
     "cell_type": "code",
     "collapsed": false,
     "input": [
      "##calculate switchpoint using discrete uniform method\n",
      "switchpoint = DiscreteUniform('switchpoint',\n",
      "                                   lower=0, upper=num_attacks)"
     ],
     "language": "python",
     "metadata": {},
     "outputs": [],
     "prompt_number": 21
    },
    {
     "cell_type": "code",
     "collapsed": false,
     "input": [
      "switchpoint.parents, attack_arr.parents, rate.children\n"
     ],
     "language": "python",
     "metadata": {},
     "outputs": [
      {
       "ename": "AttributeError",
       "evalue": "'numpy.ndarray' object has no attribute 'parents'",
       "output_type": "pyerr",
       "traceback": [
        "\u001b[1;31m---------------------------------------------------------------------------\u001b[0m\n\u001b[1;31mAttributeError\u001b[0m                            Traceback (most recent call last)",
        "\u001b[1;32m<ipython-input-22-c7b609081970>\u001b[0m in \u001b[0;36m<module>\u001b[1;34m()\u001b[0m\n\u001b[1;32m----> 1\u001b[1;33m \u001b[0mswitchpoint\u001b[0m\u001b[1;33m.\u001b[0m\u001b[0mparents\u001b[0m\u001b[1;33m,\u001b[0m \u001b[0mattack_arr\u001b[0m\u001b[1;33m.\u001b[0m\u001b[0mparents\u001b[0m\u001b[1;33m,\u001b[0m \u001b[0mrate\u001b[0m\u001b[1;33m.\u001b[0m\u001b[0mchildren\u001b[0m\u001b[1;33m\u001b[0m\u001b[0m\n\u001b[0m",
        "\u001b[1;31mAttributeError\u001b[0m: 'numpy.ndarray' object has no attribute 'parents'"
       ]
      }
     ],
     "prompt_number": 22
    },
    {
     "cell_type": "code",
     "collapsed": false,
     "input": [
      "#rv_continuous.pdf(x, *args, **kwds)[source]"
     ],
     "language": "python",
     "metadata": {},
     "outputs": [],
     "prompt_number": 23
    },
    {
     "cell_type": "code",
     "collapsed": false,
     "input": [],
     "language": "python",
     "metadata": {},
     "outputs": [],
     "prompt_number": 23
    },
    {
     "cell_type": "code",
     "collapsed": false,
     "input": [
      "### set early and late  mean...\n",
      "early_mean = Exponential('early_mean', beta=1.)\n",
      "late_mean = Exponential('late_mean', beta=1.)"
     ],
     "language": "python",
     "metadata": {},
     "outputs": [],
     "prompt_number": 24
    },
    {
     "cell_type": "code",
     "collapsed": false,
     "input": [
      "#idx = arange(weeks)\n",
      "#rate = rateFunc(switchpoint, early_mean, late_mean)"
     ],
     "language": "python",
     "metadata": {},
     "outputs": [],
     "prompt_number": 25
    },
    {
     "cell_type": "code",
     "collapsed": false,
     "input": [
      "###\n",
      "\n",
      "@deterministic(plot=False)\n",
      "def rate(s=switchpoint, e=early_mean, l=late_mean):\n",
      "    ''' Concatenate Poisson means '''\n",
      "    out = np.empty(len(attack_arr))\n",
      "    out[:s] = e\n",
      "    out[s:] = l\n",
      "    return out"
     ],
     "language": "python",
     "metadata": {},
     "outputs": [],
     "prompt_number": 26
    },
    {
     "cell_type": "code",
     "collapsed": false,
     "input": [
      "attacks = Poisson('attacks', mu=rate, value=attack_arr, observed=True)\n",
      "attacks"
     ],
     "language": "python",
     "metadata": {},
     "outputs": [
      {
       "metadata": {},
       "output_type": "pyout",
       "prompt_number": 27,
       "text": [
        "<pymc.distributions.Poisson 'attacks' at 0x7f218a12d710>"
       ]
      }
     ],
     "prompt_number": 27
    },
    {
     "cell_type": "code",
     "collapsed": false,
     "input": [
      "Model = Model([switchpoint, early_mean, late_mean, attacks])\n"
     ],
     "language": "python",
     "metadata": {},
     "outputs": [],
     "prompt_number": 28
    },
    {
     "cell_type": "code",
     "collapsed": false,
     "input": [
      "##apply model to sample\n",
      "from pymc import MCMC\n",
      "M = MCMC(Model)\n"
     ],
     "language": "python",
     "metadata": {},
     "outputs": [],
     "prompt_number": 29
    },
    {
     "cell_type": "code",
     "collapsed": false,
     "input": [],
     "language": "python",
     "metadata": {},
     "outputs": [],
     "prompt_number": 29
    },
    {
     "cell_type": "code",
     "collapsed": false,
     "input": [
      "M.sample(iter=10000, burn=1000, thin=10)"
     ],
     "language": "python",
     "metadata": {},
     "outputs": [
      {
       "output_type": "stream",
       "stream": "stdout",
       "text": [
        "\r",
        " [------           17%                  ] 1794 of 10000 complete in 0.5 sec"
       ]
      },
      {
       "output_type": "stream",
       "stream": "stdout",
       "text": [
        "\r",
        " [-------------    35%                  ] 3549 of 10000 complete in 1.0 sec"
       ]
      },
      {
       "output_type": "stream",
       "stream": "stdout",
       "text": [
        "\r",
        " [-----------------53%                  ] 5313 of 10000 complete in 1.5 sec"
       ]
      },
      {
       "output_type": "stream",
       "stream": "stdout",
       "text": [
        "\r",
        " [-----------------70%------            ] 7050 of 10000 complete in 2.0 sec"
       ]
      },
      {
       "output_type": "stream",
       "stream": "stdout",
       "text": [
        "\r",
        " [-----------------88%-------------     ] 8800 of 10000 complete in 2.5 sec"
       ]
      },
      {
       "output_type": "stream",
       "stream": "stdout",
       "text": [
        "\r",
        " [-----------------100%-----------------] 10000 of 10000 complete in 2.9 sec"
       ]
      }
     ],
     "prompt_number": 30
    },
    {
     "cell_type": "code",
     "collapsed": false,
     "input": [
      "M.trace('switchpoint')[:]"
     ],
     "language": "python",
     "metadata": {},
     "outputs": [
      {
       "metadata": {},
       "output_type": "pyout",
       "prompt_number": 31,
       "text": [
        "array([230, 283, 283, 283, 283, 283, 283, 283, 283, 283, 283, 283, 283,\n",
        "       283, 283, 283, 283, 283, 283, 283, 283, 283, 283, 283, 283, 283,\n",
        "       283, 283, 283, 283, 283, 283, 283, 283, 283, 283, 283, 283, 283,\n",
        "       283, 283, 283, 283, 283, 283, 283, 283, 283, 283, 283, 283, 283,\n",
        "       283, 283, 283, 283, 294, 294, 294, 294, 294, 294, 294, 294, 294,\n",
        "       294, 294, 294, 294, 294, 294, 294, 294, 294, 294, 294, 294, 294,\n",
        "       294, 294, 294, 294, 294, 294, 294, 294, 294, 294, 294, 294, 294,\n",
        "       294, 294, 294, 294, 294, 294, 294, 294, 294, 294, 294, 294, 294,\n",
        "       294, 294, 294, 294, 294, 294, 294, 294, 294, 294, 294, 294, 294,\n",
        "       294, 294, 294, 294, 294, 294, 294, 294, 294, 294, 294, 294, 294,\n",
        "       294, 294, 294, 289, 289, 289, 289, 289, 289, 289, 289, 289, 289,\n",
        "       289, 289, 289, 289, 289, 293, 293, 293, 293, 293, 293, 293, 293,\n",
        "       293, 293, 293, 293, 293, 293, 293, 293, 293, 293, 293, 293, 293,\n",
        "       293, 293, 293, 293, 293, 293, 293, 293, 293, 293, 293, 293, 293,\n",
        "       293, 293, 293, 293, 293, 293, 293, 293, 293, 293, 293, 293, 293,\n",
        "       293, 293, 293, 293, 293, 293, 293, 293, 290, 290, 290, 290, 290,\n",
        "       290, 290, 290, 290, 290, 290, 290, 290, 290, 290, 290, 290, 290,\n",
        "       290, 290, 290, 290, 290, 290, 290, 290, 290, 290, 290, 290, 290,\n",
        "       290, 290, 290, 290, 290, 290, 290, 290, 290, 290, 290, 290, 290,\n",
        "       290, 290, 290, 290, 290, 290, 290, 290, 290, 290, 290, 290, 290,\n",
        "       290, 290, 290, 290, 290, 290, 290, 290, 290, 290, 290, 290, 290,\n",
        "       290, 290, 290, 290, 290, 290, 290, 290, 290, 290, 290, 290, 290,\n",
        "       290, 290, 290, 290, 290, 290, 290, 290, 290, 290, 290, 290, 290,\n",
        "       290, 290, 290, 290, 290, 290, 290, 290, 290, 290, 290, 290, 290,\n",
        "       290, 290, 290, 290, 290, 290, 290, 290, 290, 290, 290, 290, 290,\n",
        "       290, 290, 290, 290, 290, 290, 290, 290, 290, 290, 290, 290, 290,\n",
        "       290, 290, 290, 290, 290, 290, 290, 290, 290, 290, 290, 290, 290,\n",
        "       290, 290, 290, 290, 290, 290, 290, 290, 290, 290, 290, 290, 290,\n",
        "       290, 290, 290, 290, 290, 290, 290, 290, 290, 290, 290, 290, 290,\n",
        "       290, 290, 290, 290, 290, 290, 290, 290, 290, 290, 290, 290, 290,\n",
        "       290, 290, 290, 290, 290, 290, 290, 290, 290, 290, 290, 290, 290,\n",
        "       290, 290, 290, 290, 290, 290, 290, 290, 290, 290, 290, 290, 290,\n",
        "       290, 290, 290, 290, 290, 290, 290, 290, 290, 290, 290, 290, 290,\n",
        "       290, 290, 290, 290, 290, 290, 290, 290, 290, 290, 290, 290, 290,\n",
        "       290, 290, 290, 290, 290, 290, 290, 290, 290, 290, 290, 290, 290,\n",
        "       290, 290, 290, 290, 290, 290, 290, 290, 290, 290, 290, 290, 290,\n",
        "       290, 290, 290, 290, 290, 290, 290, 290, 290, 290, 290, 290, 290,\n",
        "       290, 290, 290, 290, 290, 290, 290, 290, 290, 290, 290, 290, 290,\n",
        "       290, 290, 290, 290, 290, 290, 290, 290, 290, 290, 290, 290, 290,\n",
        "       290, 290, 290, 290, 290, 290, 290, 290, 290, 290, 290, 290, 290,\n",
        "       290, 290, 290, 290, 290, 290, 290, 290, 290, 290, 290, 290, 290,\n",
        "       290, 290, 290, 290, 290, 290, 290, 290, 290, 290, 290, 290, 290,\n",
        "       290, 290, 290, 290, 290, 290, 290, 290, 290, 290, 290, 290, 290,\n",
        "       290, 290, 290, 290, 290, 290, 290, 290, 290, 290, 290, 290, 290,\n",
        "       290, 290, 290, 290, 290, 290, 290, 290, 290, 290, 290, 290, 290,\n",
        "       290, 290, 290, 290, 290, 290, 290, 290, 290, 290, 290, 290, 290,\n",
        "       290, 290, 290, 290, 290, 290, 290, 290, 290, 290, 290, 290, 290,\n",
        "       290, 290, 290, 290, 290, 290, 290, 290, 290, 290, 290, 290, 290,\n",
        "       290, 290, 290, 290, 290, 290, 290, 290, 290, 290, 290, 290, 290,\n",
        "       290, 290, 290, 290, 290, 290, 290, 290, 290, 290, 290, 290, 290,\n",
        "       290, 290, 290, 290, 290, 290, 290, 290, 290, 290, 290, 290, 290,\n",
        "       290, 290, 290, 290, 290, 290, 290, 290, 290, 290, 290, 290, 290,\n",
        "       290, 290, 290, 290, 290, 290, 290, 290, 290, 290, 290, 290, 290,\n",
        "       290, 290, 290, 290, 290, 290, 290, 290, 290, 290, 290, 290, 290,\n",
        "       290, 290, 290, 290, 290, 290, 290, 290, 290, 290, 290, 290, 290,\n",
        "       290, 290, 290, 290, 290, 290, 290, 290, 290, 290, 290, 290, 290,\n",
        "       290, 290, 290, 290, 290, 290, 290, 290, 290, 290, 290, 290, 290,\n",
        "       290, 290, 290, 290, 290, 290, 290, 290, 290, 290, 290, 290, 290,\n",
        "       290, 290, 290, 290, 290, 290, 290, 290, 290, 290, 290, 290, 290,\n",
        "       290, 290, 290, 290, 290, 290, 290, 290, 290, 290, 290, 290, 290,\n",
        "       290, 290, 290, 290, 290, 290, 290, 290, 290, 290, 290, 290, 290,\n",
        "       290, 290, 290, 290, 290, 290, 290, 290, 290, 290, 290, 290, 290,\n",
        "       290, 290, 290, 290, 290, 290, 290, 290, 290, 290, 290, 290, 290,\n",
        "       290, 290, 290, 290, 290, 290, 290, 290, 290, 290, 290, 290, 290,\n",
        "       290, 290, 290, 290, 290, 290, 290, 290, 290, 290, 290, 290, 290,\n",
        "       290, 290, 290, 290, 290, 290, 290, 290, 290, 290, 290, 290, 290,\n",
        "       290, 290, 290, 290, 290, 290, 290, 290, 290, 290, 290, 290, 290,\n",
        "       290, 290, 290, 290, 290, 290, 290, 290, 290, 290, 290, 290, 290,\n",
        "       290, 290, 290, 290, 290, 290, 290, 290, 290, 290, 290, 290, 290,\n",
        "       290, 290, 290])"
       ]
      }
     ],
     "prompt_number": 31
    },
    {
     "cell_type": "code",
     "collapsed": false,
     "input": [
      "from pylab import hist, show"
     ],
     "language": "python",
     "metadata": {},
     "outputs": [],
     "prompt_number": 32
    },
    {
     "cell_type": "code",
     "collapsed": false,
     "input": [
      "hist(M.trace('early_mean')[:])"
     ],
     "language": "python",
     "metadata": {},
     "outputs": [
      {
       "metadata": {},
       "output_type": "pyout",
       "prompt_number": 33,
       "text": [
        "(array([  57.,  187.,  290.,  184.,  114.,   49.,   12.,    4.,    2.,    1.]),\n",
        " array([ 0.04473987,  0.06034872,  0.07595758,  0.09156643,  0.10717529,\n",
        "         0.12278414,  0.138393  ,  0.15400185,  0.1696107 ,  0.18521956,\n",
        "         0.20082841]),\n",
        " <a list of 10 Patch objects>)"
       ]
      },
      {
       "metadata": {},
       "output_type": "display_data",
       "png": "[encoded data removed]",
       "text": [
        "<matplotlib.figure.Figure at 0x7f218a042950>"
       ]
      }
     ],
     "prompt_number": 33
    },
    {
     "cell_type": "code",
     "collapsed": false,
     "input": [
      "hist(M.trace('late_mean')[:])"
     ],
     "language": "python",
     "metadata": {},
     "outputs": [
      {
       "metadata": {},
       "output_type": "pyout",
       "prompt_number": 34,
       "text": [
        "(array([   1.,    0.,    0.,    0.,    0.,    7.,   63.,  361.,  389.,   79.]),\n",
        " array([  6.96249575,   7.39671038,   7.83092502,   8.26513965,\n",
        "          8.69935428,   9.13356892,   9.56778355,  10.00199818,\n",
        "         10.43621282,  10.87042745,  11.30464208]),\n",
        " <a list of 10 Patch objects>)"
       ]
      },
      {
       "metadata": {},
       "output_type": "display_data",
       "png": "[encoded data removed]",
       "text": [
        "<matplotlib.figure.Figure at 0x7f218a14a850>"
       ]
      }
     ],
     "prompt_number": 34
    },
    {
     "cell_type": "code",
     "collapsed": false,
     "input": [
      "from pymc.Matplot import plot\n",
      "plot(M)"
     ],
     "language": "python",
     "metadata": {},
     "outputs": [
      {
       "output_type": "stream",
       "stream": "stdout",
       "text": [
        "Plotting late_mean\n",
        "Plotting"
       ]
      },
      {
       "output_type": "stream",
       "stream": "stdout",
       "text": [
        " early_mean\n",
        "Plotting"
       ]
      },
      {
       "output_type": "stream",
       "stream": "stdout",
       "text": [
        " switchpoint\n"
       ]
      },
      {
       "metadata": {},
       "output_type": "display_data",
       "png": "[encoded data removed]",
       "text": [
        "<matplotlib.figure.Figure at 0x7f2189e45290>"
       ]
      },
      {
       "metadata": {},
       "output_type": "display_data",
       "png": "[encoded data removed]",
       "text": [
        "<matplotlib.figure.Figure at 0x7f2189ae1910>"
       ]
      },
      {
       "metadata": {},
       "output_type": "display_data",
       "png": "[encoded data removed]",
       "text": [
        "<matplotlib.figure.Figure at 0x7f21898a80d0>"
       ]
      }
     ],
     "prompt_number": 35
    },
    {
     "cell_type": "code",
     "collapsed": false,
     "input": [
      "from pymc import Metropolis"
     ],
     "language": "python",
     "metadata": {},
     "outputs": [],
     "prompt_number": 36
    },
    {
     "cell_type": "code",
     "collapsed": false,
     "input": [
      "terror_month.index[0]"
     ],
     "language": "python",
     "metadata": {},
     "outputs": [
      {
       "metadata": {},
       "output_type": "pyout",
       "prompt_number": 37,
       "text": [
        "Timestamp('1979-01-31 00:00:00', offset='M')"
       ]
      }
     ],
     "prompt_number": 37
    },
    {
     "cell_type": "code",
     "collapsed": false,
     "input": [
      "month_change = terror_month['NonMilitaryBombing'][0] + M.trace('switchpoint')[:].mean()\n",
      "em = M.trace('early_mean')[:].mean()\n",
      "lm = M.trace('late_mean')[:].mean()\n",
      "print((month_change, em, lm))"
     ],
     "language": "python",
     "metadata": {},
     "outputs": [
      {
       "output_type": "stream",
       "stream": "stdout",
       "text": [
        "(290.01444444444445, 0.090001865687448862, 10.450943435908368)\n"
       ]
      }
     ],
     "prompt_number": 38
    },
    {
     "cell_type": "code",
     "collapsed": false,
     "input": [
      "terror_month.iloc[290]"
     ],
     "language": "python",
     "metadata": {},
     "outputs": [
      {
       "metadata": {},
       "output_type": "pyout",
       "prompt_number": 40,
       "text": [
        "NonMilitaryBombing    4\n",
        "Name: 2003-03-31 00:00:00, dtype: float64"
       ]
      }
     ],
     "prompt_number": 40
    },
    {
     "cell_type": "code",
     "collapsed": false,
     "input": [],
     "language": "python",
     "metadata": {},
     "outputs": [],
     "prompt_number": 39
    },
    {
     "cell_type": "code",
     "collapsed": false,
     "input": [],
     "language": "python",
     "metadata": {},
     "outputs": []
    }
   ],
   "metadata": {}
  }
 ]
}