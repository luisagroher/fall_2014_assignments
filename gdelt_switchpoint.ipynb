{
 "metadata": {
  "name": "",
  "signature": "sha256:efbf4ae27e5559d1911bc3943910b450ec92dfa20d2be1cbe8d01c36f0f93178"
 },
 "nbformat": 3,
 "nbformat_minor": 0,
 "worksheets": [
  {
   "cells": [
    {
     "cell_type": "code",
     "collapsed": false,
     "input": [
      "ls"
     ],
     "language": "python",
     "metadata": {},
     "outputs": [
      {
       "output_type": "stream",
       "stream": "stdout",
       "text": [
        "\u001b[0m\u001b[01;34m2012\u001b[0m/                                gdelt_iter.ipynb\r\n",
        "\u001b[01;34m2013\u001b[0m/                                \u001b[01;32mGDELT.MASTERREDUCEDV2.TXT\u001b[0m*\r\n",
        "\u001b[01;34mdatasets\u001b[0m/                            gdelt_point_process.ipynb\r\n",
        "\u001b[01;35mearly_mean.png\u001b[0m                       gdelt_poisson.ipynb\r\n",
        "gdelt_cleaning_eda_crosstab.ipynb    gdelt_switchpoint.ipynb\r\n",
        "gdelt_cleaning_eda_timeseries.ipynb  header\r\n",
        "gdelt_eda.ipynb                      \u001b[01;35mlate_mean.png\u001b[0m\r\n",
        "gdelt_geo_clean.ipynb                \u001b[01;35mswitchpoint.png\u001b[0m\r\n",
        "gdelt_geo_clean_visuals.ipynb        switchpoint_tutorial.ipynb\r\n",
        "gdelt_geo_plot.ipynb                 tutorials_list.ipynb\r\n",
        "gdelt.ipynb\r\n"
       ]
      }
     ],
     "prompt_number": 1
    },
    {
     "cell_type": "code",
     "collapsed": false,
     "input": [
      "import pandas as pd\n",
      "import numpy as np\n",
      "\n",
      "from pymc import DiscreteUniform, Exponential, deterministic, Poisson, Uniform, Model"
     ],
     "language": "python",
     "metadata": {},
     "outputs": [],
     "prompt_number": 2
    },
    {
     "cell_type": "code",
     "collapsed": false,
     "input": [
      "###load the header for data\n",
      "header = pd.read_csv('header', sep='\\t')\n",
      "header"
     ],
     "language": "python",
     "metadata": {},
     "outputs": [
      {
       "html": [
        "<div style=\"max-height:1000px;max-width:1500px;overflow:auto;\">\n",
        "<table border=\"1\" class=\"dataframe\">\n",
        "  <thead>\n",
        "    <tr style=\"text-align: right;\">\n",
        "      <th></th>\n",
        "      <th>Date</th>\n",
        "      <th>Source</th>\n",
        "      <th>Target</th>\n",
        "      <th>CAMEOCode</th>\n",
        "      <th>NumEvents</th>\n",
        "      <th>NumArts</th>\n",
        "      <th>QuadClass</th>\n",
        "      <th>Goldstein</th>\n",
        "      <th>SourceGeoType</th>\n",
        "      <th>SourceGeoLat</th>\n",
        "      <th>SourceGeoLong</th>\n",
        "      <th>TargetGeoType</th>\n",
        "      <th>TargetGeoLat</th>\n",
        "      <th>TargetGeoLong</th>\n",
        "      <th>ActionGeoType</th>\n",
        "      <th>ActionGeoLat</th>\n",
        "      <th>ActionGeoLong</th>\n",
        "    </tr>\n",
        "  </thead>\n",
        "  <tbody>\n",
        "  </tbody>\n",
        "</table>\n",
        "</div>"
       ],
       "metadata": {},
       "output_type": "pyout",
       "prompt_number": 3,
       "text": [
        "Empty DataFrame\n",
        "Columns: [Date, Source, Target, CAMEOCode, NumEvents, NumArts, QuadClass, Goldstein, SourceGeoType, SourceGeoLat, SourceGeoLong, TargetGeoType, TargetGeoLat, TargetGeoLong, ActionGeoType, ActionGeoLat, ActionGeoLong]\n",
        "Index: []"
       ]
      }
     ],
     "prompt_number": 3
    },
    {
     "cell_type": "code",
     "collapsed": false,
     "input": [
      "cd 2013"
     ],
     "language": "python",
     "metadata": {},
     "outputs": [
      {
       "output_type": "stream",
       "stream": "stdout",
       "text": [
        "/home/vagrant/notebooks/luisa/gdelt/2013\n"
       ]
      }
     ],
     "prompt_number": 4
    },
    {
     "cell_type": "code",
     "collapsed": false,
     "input": [
      "###load a subset of the data\n",
      "df = pd.read_csv('2013.txt', sep='\\t', names=header)"
     ],
     "language": "python",
     "metadata": {},
     "outputs": [
      {
       "output_type": "stream",
       "stream": "stderr",
       "text": [
        "/usr/local/lib/python2.7/dist-packages/pandas/io/parsers.py:1139: DtypeWarning: Columns (3) have mixed types. Specify dtype option on import or set low_memory=False.\n",
        "  data = self._reader.read(nrows)\n"
       ]
      }
     ],
     "prompt_number": 5
    },
    {
     "cell_type": "code",
     "collapsed": false,
     "input": [
      "### select cameo code for car bombings and suicide bombings\n",
      "\n",
      "terror_events = df[df['CAMEOCode']==183]"
     ],
     "language": "python",
     "metadata": {},
     "outputs": [],
     "prompt_number": 6
    },
    {
     "cell_type": "code",
     "collapsed": false,
     "input": [
      "###convert to datetime\n",
      "from dateutil.parser import parse"
     ],
     "language": "python",
     "metadata": {},
     "outputs": [],
     "prompt_number": 7
    },
    {
     "cell_type": "code",
     "collapsed": false,
     "input": [
      "date = terror_events.Date.apply(str)\n",
      "dates_parsed = date.apply(parse)\n",
      "dates = pd.to_datetime(dates_parsed)"
     ],
     "language": "python",
     "metadata": {},
     "outputs": [],
     "prompt_number": 8
    },
    {
     "cell_type": "code",
     "collapsed": false,
     "input": [
      "###set dattime as index\n",
      "\n",
      "terror_events['DateTime'] = dates\n",
      "terror_events.set_index('DateTime', inplace=True)"
     ],
     "language": "python",
     "metadata": {},
     "outputs": [],
     "prompt_number": 9
    },
    {
     "cell_type": "code",
     "collapsed": false,
     "input": [
      "### check that datetime was added as an index and identify columns to be used for analysis\n",
      "terror_events.columns"
     ],
     "language": "python",
     "metadata": {},
     "outputs": [
      {
       "metadata": {},
       "output_type": "pyout",
       "prompt_number": 10,
       "text": [
        "Index([u'Date', u'Source', u'Target', u'CAMEOCode', u'NumEvents', u'NumArts', u'QuadClass', u'Goldstein', u'SourceGeoType', u'SourceGeoLat', u'SourceGeoLong', u'TargetGeoType', u'TargetGeoLat', u'TargetGeoLong', u'ActionGeoType', u'ActionGeoLat', u'ActionGeoLong'], dtype='object')"
       ]
      }
     ],
     "prompt_number": 10
    },
    {
     "cell_type": "code",
     "collapsed": false,
     "input": [
      "terror_events.head(2)"
     ],
     "language": "python",
     "metadata": {},
     "outputs": [
      {
       "html": [
        "<div style=\"max-height:1000px;max-width:1500px;overflow:auto;\">\n",
        "<table border=\"1\" class=\"dataframe\">\n",
        "  <thead>\n",
        "    <tr style=\"text-align: right;\">\n",
        "      <th></th>\n",
        "      <th>Date</th>\n",
        "      <th>Source</th>\n",
        "      <th>Target</th>\n",
        "      <th>CAMEOCode</th>\n",
        "      <th>NumEvents</th>\n",
        "      <th>NumArts</th>\n",
        "      <th>QuadClass</th>\n",
        "      <th>Goldstein</th>\n",
        "      <th>SourceGeoType</th>\n",
        "      <th>SourceGeoLat</th>\n",
        "      <th>SourceGeoLong</th>\n",
        "      <th>TargetGeoType</th>\n",
        "      <th>TargetGeoLat</th>\n",
        "      <th>TargetGeoLong</th>\n",
        "      <th>ActionGeoType</th>\n",
        "      <th>ActionGeoLat</th>\n",
        "      <th>ActionGeoLong</th>\n",
        "    </tr>\n",
        "    <tr>\n",
        "      <th>DateTime</th>\n",
        "      <th></th>\n",
        "      <th></th>\n",
        "      <th></th>\n",
        "      <th></th>\n",
        "      <th></th>\n",
        "      <th></th>\n",
        "      <th></th>\n",
        "      <th></th>\n",
        "      <th></th>\n",
        "      <th></th>\n",
        "      <th></th>\n",
        "      <th></th>\n",
        "      <th></th>\n",
        "      <th></th>\n",
        "      <th></th>\n",
        "      <th></th>\n",
        "      <th></th>\n",
        "    </tr>\n",
        "  </thead>\n",
        "  <tbody>\n",
        "    <tr>\n",
        "      <th>2013-01-01</th>\n",
        "      <td> 20130101</td>\n",
        "      <td> BUS</td>\n",
        "      <td> USA</td>\n",
        "      <td> 183</td>\n",
        "      <td> 1</td>\n",
        "      <td> 5</td>\n",
        "      <td> 4</td>\n",
        "      <td>-10</td>\n",
        "      <td>  3</td>\n",
        "      <td> 33.2148</td>\n",
        "      <td>-97.1331</td>\n",
        "      <td> 3</td>\n",
        "      <td> 32.7831</td>\n",
        "      <td>-96.8067</td>\n",
        "      <td> 3</td>\n",
        "      <td> 32.7831</td>\n",
        "      <td>-96.8067</td>\n",
        "    </tr>\n",
        "    <tr>\n",
        "      <th>2013-01-01</th>\n",
        "      <td> 20130101</td>\n",
        "      <td> CAN</td>\n",
        "      <td> RUS</td>\n",
        "      <td> 183</td>\n",
        "      <td> 2</td>\n",
        "      <td> 4</td>\n",
        "      <td> 4</td>\n",
        "      <td>-10</td>\n",
        "      <td>NaN</td>\n",
        "      <td>     NaN</td>\n",
        "      <td>     NaN</td>\n",
        "      <td> 4</td>\n",
        "      <td> 55.7522</td>\n",
        "      <td> 37.6156</td>\n",
        "      <td> 4</td>\n",
        "      <td> 43.6667</td>\n",
        "      <td>-79.4167</td>\n",
        "    </tr>\n",
        "  </tbody>\n",
        "</table>\n",
        "</div>"
       ],
       "metadata": {},
       "output_type": "pyout",
       "prompt_number": 11,
       "text": [
        "                Date Source Target CAMEOCode  NumEvents  NumArts  QuadClass  \\\n",
        "DateTime                                                                      \n",
        "2013-01-01  20130101    BUS    USA       183          1        5          4   \n",
        "2013-01-01  20130101    CAN    RUS       183          2        4          4   \n",
        "\n",
        "            Goldstein  SourceGeoType  SourceGeoLat  SourceGeoLong  \\\n",
        "DateTime                                                            \n",
        "2013-01-01        -10              3       33.2148       -97.1331   \n",
        "2013-01-01        -10            NaN           NaN            NaN   \n",
        "\n",
        "            TargetGeoType  TargetGeoLat  TargetGeoLong  ActionGeoType  \\\n",
        "DateTime                                                                \n",
        "2013-01-01              3       32.7831       -96.8067              3   \n",
        "2013-01-01              4       55.7522        37.6156              4   \n",
        "\n",
        "            ActionGeoLat  ActionGeoLong  \n",
        "DateTime                                 \n",
        "2013-01-01       32.7831       -96.8067  \n",
        "2013-01-01       43.6667       -79.4167  "
       ]
      }
     ],
     "prompt_number": 11
    },
    {
     "cell_type": "code",
     "collapsed": false,
     "input": [
      "## set array for number of attacks \n",
      "num_attacks = terror_events.NumEvents"
     ],
     "language": "python",
     "metadata": {},
     "outputs": [],
     "prompt_number": 12
    },
    {
     "cell_type": "code",
     "collapsed": false,
     "input": [
      "##calculate switchpoint using discrete uniform method\n",
      "switchpoint = DiscreteUniform('switchpoint', lower=0, upper=18, doc='Switchpoint[DateTime]')\n"
     ],
     "language": "python",
     "metadata": {},
     "outputs": [],
     "prompt_number": 13
    },
    {
     "cell_type": "code",
     "collapsed": false,
     "input": [
      "?DiscreteUniform\n",
      "###trying to understand the parameters for this method...documentation for this package is a little weak"
     ],
     "language": "python",
     "metadata": {},
     "outputs": [],
     "prompt_number": 26
    },
    {
     "cell_type": "code",
     "collapsed": false,
     "input": [
      "### set early and late  mean...\n",
      "early_mean = Exponential('early_mean', beta=1.)\n",
      "late_mean = Exponential('late_mean', beta=1.)"
     ],
     "language": "python",
     "metadata": {},
     "outputs": [],
     "prompt_number": 14
    },
    {
     "cell_type": "code",
     "collapsed": false,
     "input": [
      "###\n",
      "\n",
      "@deterministic(plot=False)\n",
      "def rate(s=switchpoint, e=early_mean, l=late_mean):\n",
      "    ''' Concatenate Poisson means '''\n",
      "    out = np.empty(len(num_attacks))\n",
      "    out[:s] = e\n",
      "    out[s:] = l\n",
      "    return out"
     ],
     "language": "python",
     "metadata": {},
     "outputs": [],
     "prompt_number": 15
    },
    {
     "cell_type": "code",
     "collapsed": false,
     "input": [
      "###am confused here..didn't calculate mu or rate above...\n",
      "\n",
      "attacks = Poisson('attacks', mu=rate, value=num_attacks, observed=True)"
     ],
     "language": "python",
     "metadata": {},
     "outputs": [],
     "prompt_number": 16
    },
    {
     "cell_type": "code",
     "collapsed": false,
     "input": [],
     "language": "python",
     "metadata": {},
     "outputs": [],
     "prompt_number": 16
    },
    {
     "cell_type": "code",
     "collapsed": false,
     "input": [
      "Model = Model([switchpoint, early_mean, late_mean, rate, attacks])"
     ],
     "language": "python",
     "metadata": {},
     "outputs": [],
     "prompt_number": 17
    },
    {
     "cell_type": "code",
     "collapsed": false,
     "input": [
      "##apply model to sample\n",
      "from pymc import MCMC\n",
      "M = MCMC(Model)\n"
     ],
     "language": "python",
     "metadata": {},
     "outputs": [],
     "prompt_number": 18
    },
    {
     "cell_type": "code",
     "collapsed": false,
     "input": [
      "M.sample(iter=10000, burn=1000, thin=10)"
     ],
     "language": "python",
     "metadata": {},
     "outputs": [
      {
       "output_type": "stream",
       "stream": "stdout",
       "text": [
        "\r",
        " [                  0%                  ] 2 of 10000 complete in 1.2 sec"
       ]
      },
      {
       "output_type": "stream",
       "stream": "stdout",
       "text": [
        "\r",
        " [                  1%                  ] 103 of 10000 complete in 1.7 sec"
       ]
      },
      {
       "output_type": "stream",
       "stream": "stdout",
       "text": [
        "\r",
        " [                  2%                  ] 207 of 10000 complete in 2.2 sec"
       ]
      },
      {
       "output_type": "stream",
       "stream": "stdout",
       "text": [
        "\r",
        " [-                 3%                  ] 327 of 10000 complete in 2.7 sec"
       ]
      },
      {
       "output_type": "stream",
       "stream": "stdout",
       "text": [
        "\r",
        " [-                 4%                  ] 453 of 10000 complete in 3.2 sec"
       ]
      },
      {
       "output_type": "stream",
       "stream": "stdout",
       "text": [
        "\r",
        " [--                5%                  ] 572 of 10000 complete in 3.7 sec"
       ]
      },
      {
       "output_type": "stream",
       "stream": "stdout",
       "text": [
        "\r",
        " [--                6%                  ] 685 of 10000 complete in 4.2 sec"
       ]
      },
      {
       "output_type": "stream",
       "stream": "stdout",
       "text": [
        "\r",
        " [---               7%                  ] 798 of 10000 complete in 4.7 sec"
       ]
      },
      {
       "output_type": "stream",
       "stream": "stdout",
       "text": [
        "\r",
        " [---               9%                  ] 920 of 10000 complete in 5.2 sec"
       ]
      },
      {
       "output_type": "stream",
       "stream": "stdout",
       "text": [
        "\r",
        " [---              10%                  ] 1042 of 10000 complete in 5.7 sec"
       ]
      },
      {
       "output_type": "stream",
       "stream": "stdout",
       "text": [
        "\r",
        " [----             11%                  ] 1149 of 10000 complete in 6.2 sec"
       ]
      },
      {
       "output_type": "stream",
       "stream": "stdout",
       "text": [
        "\r",
        " [----             12%                  ] 1268 of 10000 complete in 6.7 sec"
       ]
      },
      {
       "output_type": "stream",
       "stream": "stdout",
       "text": [
        "\r",
        " [-----            13%                  ] 1386 of 10000 complete in 7.2 sec"
       ]
      },
      {
       "output_type": "stream",
       "stream": "stdout",
       "text": [
        "\r",
        " [-----            15%                  ] 1512 of 10000 complete in 7.7 sec"
       ]
      },
      {
       "output_type": "stream",
       "stream": "stdout",
       "text": [
        "\r",
        " [------           16%                  ] 1632 of 10000 complete in 8.2 sec"
       ]
      },
      {
       "output_type": "stream",
       "stream": "stdout",
       "text": [
        "\r",
        " [------           17%                  ] 1750 of 10000 complete in 8.7 sec"
       ]
      },
      {
       "output_type": "stream",
       "stream": "stdout",
       "text": [
        "\r",
        " [-------          18%                  ] 1870 of 10000 complete in 9.2 sec"
       ]
      },
      {
       "output_type": "stream",
       "stream": "stdout",
       "text": [
        "\r",
        " [-------          19%                  ] 1990 of 10000 complete in 9.7 sec"
       ]
      },
      {
       "output_type": "stream",
       "stream": "stdout",
       "text": [
        "\r",
        " [--------         21%                  ] 2114 of 10000 complete in 10.2 sec"
       ]
      },
      {
       "output_type": "stream",
       "stream": "stdout",
       "text": [
        "\r",
        " [--------         22%                  ] 2238 of 10000 complete in 10.7 sec"
       ]
      },
      {
       "output_type": "stream",
       "stream": "stdout",
       "text": [
        "\r",
        " [--------         23%                  ] 2358 of 10000 complete in 11.2 sec"
       ]
      },
      {
       "output_type": "stream",
       "stream": "stdout",
       "text": [
        "\r",
        " [---------        24%                  ] 2477 of 10000 complete in 11.7 sec"
       ]
      },
      {
       "output_type": "stream",
       "stream": "stdout",
       "text": [
        "\r",
        " [---------        25%                  ] 2598 of 10000 complete in 12.2 sec"
       ]
      },
      {
       "output_type": "stream",
       "stream": "stdout",
       "text": [
        "\r",
        " [----------       27%                  ] 2724 of 10000 complete in 12.7 sec"
       ]
      },
      {
       "output_type": "stream",
       "stream": "stdout",
       "text": [
        "\r",
        " [----------       28%                  ] 2845 of 10000 complete in 13.2 sec"
       ]
      },
      {
       "output_type": "stream",
       "stream": "stdout",
       "text": [
        "\r",
        " [-----------      29%                  ] 2961 of 10000 complete in 13.7 sec"
       ]
      },
      {
       "output_type": "stream",
       "stream": "stdout",
       "text": [
        "\r",
        " [-----------      30%                  ] 3089 of 10000 complete in 14.2 sec"
       ]
      },
      {
       "output_type": "stream",
       "stream": "stdout",
       "text": [
        "\r",
        " [------------     32%                  ] 3208 of 10000 complete in 14.7 sec"
       ]
      },
      {
       "output_type": "stream",
       "stream": "stdout",
       "text": [
        "\r",
        " [------------     33%                  ] 3328 of 10000 complete in 15.2 sec"
       ]
      },
      {
       "output_type": "stream",
       "stream": "stdout",
       "text": [
        "\r",
        " [-------------    34%                  ] 3447 of 10000 complete in 15.7 sec"
       ]
      },
      {
       "output_type": "stream",
       "stream": "stdout",
       "text": [
        "\r",
        " [-------------    35%                  ] 3571 of 10000 complete in 16.2 sec"
       ]
      },
      {
       "output_type": "stream",
       "stream": "stdout",
       "text": [
        "\r",
        " [--------------   36%                  ] 3695 of 10000 complete in 16.7 sec"
       ]
      },
      {
       "output_type": "stream",
       "stream": "stdout",
       "text": [
        "\r",
        " [--------------   38%                  ] 3812 of 10000 complete in 17.2 sec"
       ]
      },
      {
       "output_type": "stream",
       "stream": "stdout",
       "text": [
        "\r",
        " [--------------   39%                  ] 3936 of 10000 complete in 17.7 sec"
       ]
      },
      {
       "output_type": "stream",
       "stream": "stdout",
       "text": [
        "\r",
        " [---------------  40%                  ] 4057 of 10000 complete in 18.2 sec"
       ]
      },
      {
       "output_type": "stream",
       "stream": "stdout",
       "text": [
        "\r",
        " [---------------  41%                  ] 4180 of 10000 complete in 18.7 sec"
       ]
      },
      {
       "output_type": "stream",
       "stream": "stdout",
       "text": [
        "\r",
        " [---------------- 43%                  ] 4305 of 10000 complete in 19.2 sec"
       ]
      },
      {
       "output_type": "stream",
       "stream": "stdout",
       "text": [
        "\r",
        " [---------------- 44%                  ] 4428 of 10000 complete in 19.8 sec"
       ]
      },
      {
       "output_type": "stream",
       "stream": "stdout",
       "text": [
        "\r",
        " [-----------------45%                  ] 4544 of 10000 complete in 20.3 sec"
       ]
      },
      {
       "output_type": "stream",
       "stream": "stdout",
       "text": [
        "\r",
        " [-----------------46%                  ] 4669 of 10000 complete in 20.8 sec"
       ]
      },
      {
       "output_type": "stream",
       "stream": "stdout",
       "text": [
        "\r",
        " [-----------------47%                  ] 4787 of 10000 complete in 21.3 sec"
       ]
      },
      {
       "output_type": "stream",
       "stream": "stdout",
       "text": [
        "\r",
        " [-----------------49%                  ] 4908 of 10000 complete in 21.8 sec"
       ]
      },
      {
       "output_type": "stream",
       "stream": "stdout",
       "text": [
        "\r",
        " [-----------------50%                  ] 5031 of 10000 complete in 22.3 sec"
       ]
      },
      {
       "output_type": "stream",
       "stream": "stdout",
       "text": [
        "\r",
        " [-----------------51%                  ] 5150 of 10000 complete in 22.8 sec"
       ]
      },
      {
       "output_type": "stream",
       "stream": "stdout",
       "text": [
        "\r",
        " [-----------------52%                  ] 5274 of 10000 complete in 23.3 sec"
       ]
      },
      {
       "output_type": "stream",
       "stream": "stdout",
       "text": [
        "\r",
        " [-----------------53%                  ] 5399 of 10000 complete in 23.8 sec"
       ]
      },
      {
       "output_type": "stream",
       "stream": "stdout",
       "text": [
        "\r",
        " [-----------------55%                  ] 5519 of 10000 complete in 24.3 sec"
       ]
      },
      {
       "output_type": "stream",
       "stream": "stdout",
       "text": [
        "\r",
        " [-----------------56%-                 ] 5638 of 10000 complete in 24.8 sec"
       ]
      },
      {
       "output_type": "stream",
       "stream": "stdout",
       "text": [
        "\r",
        " [-----------------57%-                 ] 5766 of 10000 complete in 25.3 sec"
       ]
      },
      {
       "output_type": "stream",
       "stream": "stdout",
       "text": [
        "\r",
        " [-----------------58%--                ] 5893 of 10000 complete in 25.8 sec"
       ]
      },
      {
       "output_type": "stream",
       "stream": "stdout",
       "text": [
        "\r",
        " [-----------------60%--                ] 6016 of 10000 complete in 26.3 sec"
       ]
      },
      {
       "output_type": "stream",
       "stream": "stdout",
       "text": [
        "\r",
        " [-----------------61%---               ] 6139 of 10000 complete in 26.8 sec"
       ]
      },
      {
       "output_type": "stream",
       "stream": "stdout",
       "text": [
        "\r",
        " [-----------------62%---               ] 6265 of 10000 complete in 27.3 sec"
       ]
      },
      {
       "output_type": "stream",
       "stream": "stdout",
       "text": [
        "\r",
        " [-----------------63%----              ] 6383 of 10000 complete in 27.8 sec"
       ]
      },
      {
       "output_type": "stream",
       "stream": "stdout",
       "text": [
        "\r",
        " [-----------------65%----              ] 6505 of 10000 complete in 28.3 sec"
       ]
      },
      {
       "output_type": "stream",
       "stream": "stdout",
       "text": [
        "\r",
        " [-----------------66%-----             ] 6630 of 10000 complete in 28.8 sec"
       ]
      },
      {
       "output_type": "stream",
       "stream": "stdout",
       "text": [
        "\r",
        " [-----------------67%-----             ] 6757 of 10000 complete in 29.3 sec"
       ]
      },
      {
       "output_type": "stream",
       "stream": "stdout",
       "text": [
        "\r",
        " [-----------------68%------            ] 6878 of 10000 complete in 29.8 sec"
       ]
      },
      {
       "output_type": "stream",
       "stream": "stdout",
       "text": [
        "\r",
        " [-----------------69%------            ] 6997 of 10000 complete in 30.3 sec"
       ]
      },
      {
       "output_type": "stream",
       "stream": "stdout",
       "text": [
        "\r",
        " [-----------------71%-------           ] 7123 of 10000 complete in 30.8 sec"
       ]
      },
      {
       "output_type": "stream",
       "stream": "stdout",
       "text": [
        "\r",
        " [-----------------72%-------           ] 7241 of 10000 complete in 31.3 sec"
       ]
      },
      {
       "output_type": "stream",
       "stream": "stdout",
       "text": [
        "\r",
        " [-----------------73%-------           ] 7348 of 10000 complete in 31.8 sec"
       ]
      },
      {
       "output_type": "stream",
       "stream": "stdout",
       "text": [
        "\r",
        " [-----------------74%--------          ] 7468 of 10000 complete in 32.3 sec"
       ]
      },
      {
       "output_type": "stream",
       "stream": "stdout",
       "text": [
        "\r",
        " [-----------------75%--------          ] 7587 of 10000 complete in 32.8 sec"
       ]
      },
      {
       "output_type": "stream",
       "stream": "stdout",
       "text": [
        "\r",
        " [-----------------77%---------         ] 7711 of 10000 complete in 33.3 sec"
       ]
      },
      {
       "output_type": "stream",
       "stream": "stdout",
       "text": [
        "\r",
        " [-----------------78%---------         ] 7835 of 10000 complete in 33.8 sec"
       ]
      },
      {
       "output_type": "stream",
       "stream": "stdout",
       "text": [
        "\r",
        " [-----------------79%----------        ] 7955 of 10000 complete in 34.3 sec"
       ]
      },
      {
       "output_type": "stream",
       "stream": "stdout",
       "text": [
        "\r",
        " [-----------------80%----------        ] 8072 of 10000 complete in 34.8 sec"
       ]
      },
      {
       "output_type": "stream",
       "stream": "stdout",
       "text": [
        "\r",
        " [-----------------81%-----------       ] 8189 of 10000 complete in 35.3 sec"
       ]
      },
      {
       "output_type": "stream",
       "stream": "stdout",
       "text": [
        "\r",
        " [-----------------83%-----------       ] 8311 of 10000 complete in 35.8 sec"
       ]
      },
      {
       "output_type": "stream",
       "stream": "stdout",
       "text": [
        "\r",
        " [-----------------84%------------      ] 8428 of 10000 complete in 36.3 sec"
       ]
      },
      {
       "output_type": "stream",
       "stream": "stdout",
       "text": [
        "\r",
        " [-----------------85%------------      ] 8549 of 10000 complete in 36.8 sec"
       ]
      },
      {
       "output_type": "stream",
       "stream": "stdout",
       "text": [
        "\r",
        " [-----------------86%------------      ] 8662 of 10000 complete in 37.3 sec"
       ]
      },
      {
       "output_type": "stream",
       "stream": "stdout",
       "text": [
        "\r",
        " [-----------------87%-------------     ] 8783 of 10000 complete in 37.8 sec"
       ]
      },
      {
       "output_type": "stream",
       "stream": "stdout",
       "text": [
        "\r",
        " [-----------------88%-------------     ] 8897 of 10000 complete in 38.3 sec"
       ]
      },
      {
       "output_type": "stream",
       "stream": "stdout",
       "text": [
        "\r",
        " [-----------------90%--------------    ] 9015 of 10000 complete in 38.8 sec"
       ]
      },
      {
       "output_type": "stream",
       "stream": "stdout",
       "text": [
        "\r",
        " [-----------------91%--------------    ] 9137 of 10000 complete in 39.3 sec"
       ]
      },
      {
       "output_type": "stream",
       "stream": "stdout",
       "text": [
        "\r",
        " [-----------------92%---------------   ] 9244 of 10000 complete in 39.8 sec"
       ]
      },
      {
       "output_type": "stream",
       "stream": "stdout",
       "text": [
        "\r",
        " [-----------------93%---------------   ] 9365 of 10000 complete in 40.3 sec"
       ]
      },
      {
       "output_type": "stream",
       "stream": "stdout",
       "text": [
        "\r",
        " [-----------------94%---------------   ] 9471 of 10000 complete in 40.9 sec"
       ]
      },
      {
       "output_type": "stream",
       "stream": "stdout",
       "text": [
        "\r",
        " [-----------------95%----------------  ] 9577 of 10000 complete in 41.4 sec"
       ]
      },
      {
       "output_type": "stream",
       "stream": "stdout",
       "text": [
        "\r",
        " [-----------------97%----------------  ] 9702 of 10000 complete in 41.9 sec"
       ]
      },
      {
       "output_type": "stream",
       "stream": "stdout",
       "text": [
        "\r",
        " [-----------------98%----------------- ] 9825 of 10000 complete in 42.4 sec"
       ]
      },
      {
       "output_type": "stream",
       "stream": "stdout",
       "text": [
        "\r",
        " [-----------------99%----------------- ] 9946 of 10000 complete in 42.9 sec"
       ]
      },
      {
       "output_type": "stream",
       "stream": "stdout",
       "text": [
        "\r",
        " [-----------------100%-----------------] 10000 of 10000 complete in 43.1 sec"
       ]
      }
     ],
     "prompt_number": 19
    },
    {
     "cell_type": "code",
     "collapsed": false,
     "input": [
      "M.trace('switchpoint')[:]"
     ],
     "language": "python",
     "metadata": {},
     "outputs": [
      {
       "metadata": {},
       "output_type": "pyout",
       "prompt_number": 21,
       "text": [
        "array([10, 16,  2,  6, 18,  0,  7, 10, 11, 12,  7,  2,  5, 17, 10,  8, 16,\n",
        "        9,  5,  7, 11,  9,  6,  2,  6,  7,  6,  8,  8,  8,  9, 17,  8,  8,\n",
        "       10,  8,  8,  2,  3,  1,  0,  1,  4,  1,  1,  0,  2, 14,  9, 14,  7,\n",
        "        8,  8,  8,  8,  8, 14, 17,  1,  3,  3,  2,  1,  1,  4, 12,  7,  6,\n",
        "       15,  5, 15,  8,  7,  8,  8,  9, 10,  9,  6, 15,  1,  7,  7, 13,  4,\n",
        "       18, 16,  2,  8,  0,  0,  4, 15, 13,  7,  4,  1,  3,  3, 12, 11, 14,\n",
        "        7,  1,  1,  3,  8, 11,  3,  3,  3,  1,  0,  4,  1,  8, 14,  6,  7,\n",
        "        5,  6,  1,  1,  8,  9, 14,  6,  9,  9,  7,  6,  6, 17, 16,  9,  7,\n",
        "        8,  1, 11,  8,  5, 13,  4,  8,  8, 13, 11,  8,  8,  9, 17,  9, 10,\n",
        "        1,  6, 10,  6,  9,  5, 10,  5,  6,  8, 14, 18, 10, 10,  8,  2,  3,\n",
        "       12, 16,  8,  0,  8,  0,  6,  3,  9, 18,  6,  2,  2,  2,  1,  0,  8,\n",
        "        4,  9, 17,  5,  5, 11,  8,  6,  8,  8, 14,  4, 18, 16,  9,  9,  9,\n",
        "       16, 16, 18, 17, 11, 11,  9,  8,  7, 12,  6, 13,  0,  2,  6,  8,  8,\n",
        "       13,  6, 11, 11,  8, 11, 16, 10,  7,  2,  1,  1, 10,  9,  8, 13, 13,\n",
        "        9,  7,  9,  6, 11, 12, 10,  5, 18,  5, 10, 13,  6,  8,  6, 11, 18,\n",
        "       16,  9, 12, 17,  8, 11, 15,  9, 15, 14,  8,  9,  4,  1,  1,  0,  6,\n",
        "        9,  4, 13,  4,  1, 11, 10,  6,  1,  7, 16,  7, 17,  2,  1,  6,  7,\n",
        "        8,  8, 16,  0,  7, 10,  8, 17,  8,  9,  9,  2,  1,  8,  5,  5,  6,\n",
        "       17,  7, 13, 14,  1,  1,  2,  4,  1,  1, 10,  8,  8, 15,  1,  3,  3,\n",
        "       16, 16,  8,  9,  5, 10,  8, 10,  8, 16,  6,  3,  1,  6,  1,  1,  6,\n",
        "        6,  5, 18,  6,  3,  3,  8,  8,  6,  8,  6,  9,  8, 11,  6, 12,  8,\n",
        "        6, 10, 17,  6, 17,  8, 11, 12, 11,  9,  7,  7, 16,  1,  9, 16,  8,\n",
        "        9, 10,  7,  9,  6,  5,  1,  1, 18, 17,  6, 17,  2,  8, 14,  0,  7,\n",
        "        9,  1,  1, 12,  1, 10, 11,  9,  1,  4, 15,  6,  8, 11, 10,  5,  1,\n",
        "        8, 16, 15, 14,  8,  8, 10,  1,  1,  1,  3,  1,  3,  3,  3,  3,  8,\n",
        "        8,  8, 11, 18, 13,  8,  2, 16,  5,  6,  8,  8, 10, 14, 12,  8, 16,\n",
        "        6, 16, 10,  6, 11, 10, 11, 10,  5,  6, 13,  8,  5,  7,  9,  7, 14,\n",
        "        9,  8,  5,  8, 18,  9,  9,  9, 16, 13,  8,  2,  1,  1,  1,  4,  2,\n",
        "        7, 18,  6,  1,  9, 13, 13, 14,  9,  6, 14,  7,  7,  9, 15,  0,  9,\n",
        "        8, 10,  9, 10, 10, 13,  2,  8,  9,  6,  7,  7,  8, 18,  8,  8, 11,\n",
        "       18, 18, 14, 11,  1,  1,  3,  3,  1,  3, 10,  7, 11,  5,  2,  0,  2,\n",
        "        6,  6, 11,  8,  3,  3, 13,  6,  6,  8,  8, 13,  8,  5,  6, 12, 11,\n",
        "       15, 15,  5,  6, 16, 18, 16,  8,  9, 12, 11,  3,  0,  0,  0,  3,  0,\n",
        "        3,  1,  2,  1,  6,  7,  4,  2,  5, 14,  1,  4, 15, 10, 12, 17, 15,\n",
        "       15, 10,  1,  2,  6,  8,  4,  9, 14,  6, 17, 14,  1,  9,  8, 10,  9,\n",
        "       17,  8, 10,  8, 10,  3,  0,  0,  9,  9, 15,  5,  9, 16,  8,  9, 10,\n",
        "        8,  8,  8,  6,  3,  1, 11,  8,  3,  1,  2,  6,  6, 10,  8,  1,  1,\n",
        "        0,  3, 10,  2,  7, 10,  9,  9, 15,  1,  6, 17,  3, 17,  3,  2,  9,\n",
        "        5,  7, 11,  0,  7,  2, 10, 10,  9,  7, 17,  8,  8,  4, 16,  5,  1,\n",
        "        1,  1,  2,  3,  7,  6, 11,  3,  0, 10, 16, 18,  8,  8,  9, 12, 10,\n",
        "       18, 10,  9,  3,  9,  2,  2,  0, 11,  6, 15,  8,  2,  5,  9, 14, 10,\n",
        "       18,  0,  4,  1,  3,  2,  6,  6,  8,  5,  5,  9,  7,  3,  6,  6, 16,\n",
        "       10, 17, 10,  2,  8,  3, 11, 14, 10, 14, 15, 14, 10,  9,  7,  7,  6,\n",
        "        8,  6,  8,  8,  6,  6,  2,  1,  2,  3,  7, 16, 13,  9,  0,  8,  2,\n",
        "        6,  8,  8,  6,  2,  3,  0,  0,  6,  7, 18, 12, 13,  9,  6,  6,  5,\n",
        "        1,  2,  5,  7, 16, 18,  6,  6,  8, 14,  1, 12,  4,  7,  2,  5,  0,\n",
        "        8,  8, 10,  8,  7,  7,  5,  9,  9, 11,  3,  0,  0,  2,  7,  9, 13,\n",
        "        9, 11,  8, 14, 18,  1,  0,  2, 10,  7,  0,  0, 15, 11,  8,  8,  2,\n",
        "       10,  6,  6,  6,  7, 12,  9,  7, 14,  9, 16,  1,  3,  2,  2,  7, 15,\n",
        "        0,  3,  1,  1,  1,  2,  2,  1,  0,  2,  0,  0,  7,  9,  7, 13,  5,\n",
        "        1,  1,  4,  3,  0,  8, 10,  8,  8, 11,  6, 15, 11, 13,  1, 10, 12,\n",
        "        8,  9, 16,  7,  6, 13, 17, 10,  8,  6,  9, 18, 16,  7, 13,  8,  8,\n",
        "        2,  1,  0, 12,  9,  6,  9,  9, 11, 16,  8,  4,  1,  1,  1,  3])"
       ]
      }
     ],
     "prompt_number": 21
    },
    {
     "cell_type": "code",
     "collapsed": false,
     "input": [
      "from pylab import hist, show"
     ],
     "language": "python",
     "metadata": {},
     "outputs": [],
     "prompt_number": 22
    },
    {
     "cell_type": "code",
     "collapsed": false,
     "input": [
      "hist(M.trace('early_mean')[:])"
     ],
     "language": "python",
     "metadata": {},
     "outputs": [
      {
       "metadata": {},
       "output_type": "pyout",
       "prompt_number": 23,
       "text": [
        "(array([  40.,  161.,  212.,  200.,  140.,   87.,   38.,   12.,    5.,    5.]),\n",
        " array([ 0.02818517,  0.34321953,  0.65825389,  0.97328825,  1.2883226 ,\n",
        "         1.60335696,  1.91839132,  2.23342568,  2.54846004,  2.8634944 ,\n",
        "         3.17852875]),\n",
        " <a list of 10 Patch objects>)"
       ]
      },
      {
       "metadata": {},
       "output_type": "display_data",
       "png": "[encoded data removed]",
       "text": [
        "<matplotlib.figure.Figure at 0x7ff82a5c1b50>"
       ]
      }
     ],
     "prompt_number": 23
    },
    {
     "cell_type": "code",
     "collapsed": false,
     "input": [
      "hist(M.trace('late_mean')[:])"
     ],
     "language": "python",
     "metadata": {},
     "outputs": [
      {
       "metadata": {},
       "output_type": "pyout",
       "prompt_number": 23,
       "text": [
        "(array([  11.,   42.,   97.,  205.,  194.,  196.,  107.,   39.,    8.,    1.]),\n",
        " array([ 1.72910589,  1.73761708,  1.74612827,  1.75463946,  1.76315065,\n",
        "         1.77166184,  1.78017303,  1.78868422,  1.79719541,  1.8057066 ,\n",
        "         1.81421779]),\n",
        " <a list of 10 Patch objects>)"
       ]
      },
      {
       "metadata": {},
       "output_type": "display_data",
       "png": "[encoded data removed]",
       "text": [
        "<matplotlib.figure.Figure at 0x7f8d0082fe50>"
       ]
      }
     ],
     "prompt_number": 23
    },
    {
     "cell_type": "code",
     "collapsed": false,
     "input": [
      "from pymc.Matplot import plot\n",
      "plot(M)"
     ],
     "language": "python",
     "metadata": {},
     "outputs": [
      {
       "output_type": "stream",
       "stream": "stdout",
       "text": [
        "Plotting switchpoint\n",
        "Plotting"
       ]
      },
      {
       "output_type": "stream",
       "stream": "stdout",
       "text": [
        " late_mean\n",
        "Plotting"
       ]
      },
      {
       "output_type": "stream",
       "stream": "stdout",
       "text": [
        " early_mean\n"
       ]
      },
      {
       "metadata": {},
       "output_type": "display_data",
       "png": "[encoded data removed]",
       "text": [
        "<matplotlib.figure.Figure at 0x7f8d005f7e90>"
       ]
      },
      {
       "metadata": {},
       "output_type": "display_data",
       "png": "[encoded data removed]",
       "text": [
        "<matplotlib.figure.Figure at 0x7f8d004a4910>"
       ]
      },
      {
       "metadata": {},
       "output_type": "display_data",
       "png": "[encoded data removed]",
       "text": [
        "<matplotlib.figure.Figure at 0x7f8d001a75d0>"
       ]
      }
     ],
     "prompt_number": 24
    },
    {
     "cell_type": "code",
     "collapsed": false,
     "input": [
      "from pymc import Metropolis"
     ],
     "language": "python",
     "metadata": {},
     "outputs": [],
     "prompt_number": 25
    },
    {
     "cell_type": "code",
     "collapsed": false,
     "input": [],
     "language": "python",
     "metadata": {},
     "outputs": []
    }
   ],
   "metadata": {}
  }
 ]
}